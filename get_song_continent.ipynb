{
 "cells": [
  {
   "cell_type": "code",
   "execution_count": 1,
   "metadata": {},
   "outputs": [],
   "source": [
    "import pandas as pd"
   ]
  },
  {
   "cell_type": "code",
   "execution_count": 9,
   "metadata": {},
   "outputs": [],
   "source": [
    "# Input data\n",
    "infolder = './data/'\n",
    "infile = infolder + 'default_features_1059_tracks.txt'\n",
    "\n",
    "# Import data into dataframe\n",
    "df = pd.read_csv(infile, header=None)"
   ]
  },
  {
   "cell_type": "code",
   "execution_count": 47,
   "metadata": {},
   "outputs": [],
   "source": [
    "# Output path\n",
    "outfolder = './data/'\n",
    "outfile = infolder + infile.split('/')[-1].split('.')[0] + '_with_continents.csv'"
   ]
  },
  {
   "cell_type": "code",
   "execution_count": 29,
   "metadata": {},
   "outputs": [],
   "source": [
    "# Rename columns to clean data\n",
    "\n",
    "# All feature columns will now be: f1, f2, etc.\n",
    "new_cols = ['f%s' % ii for ii in range(1, len(df.columns[:-1]))]\n",
    "\n",
    "# Last two columns are longitude and latitude\n",
    "new_cols.append('lat')\n",
    "new_cols.append('long')\n",
    "\n",
    "# Change column names\n",
    "df.columns = new_cols\n"
   ]
  },
  {
   "cell_type": "code",
   "execution_count": 40,
   "metadata": {},
   "outputs": [],
   "source": [
    "def classify_coordinate(lat, long):\n",
    "    '''Classify a given latitude/longitude coordinate as a continent'''\n",
    "\n",
    "    # Western hemisphere\n",
    "    if long < -30 and long > -180:\n",
    "\n",
    "        # North America\n",
    "        if lat < 75 and lat > 35:\n",
    "            continent_of_origin = 'North America'\n",
    "\n",
    "        # South America\n",
    "        elif lat < 35 and lat > -60:\n",
    "            continent_of_origin = 'South America'\n",
    "\n",
    "    # Eastern hemisphere\n",
    "    elif long > -30 and long < 180:\n",
    "\n",
    "        # Western Europe and Western Africa overlap\n",
    "        if long < 25:\n",
    "\n",
    "            # Wetern Europe\n",
    "            if lat > 37.5:\n",
    "                continent_of_origin = 'Europe'\n",
    "\n",
    "            # Western Europe\n",
    "            elif lat < 37.5:\n",
    "                continent_of_origin = 'Africa'\n",
    "\n",
    "        # Eastern Europe, Turkey, and Eastern Africa overlap\n",
    "        elif long < 35 and long > 25:\n",
    "\n",
    "            # Eastern Europe\n",
    "            if lat > 40:\n",
    "                continent_of_origin ='Europe'\n",
    "\n",
    "            # Turkey\n",
    "            elif lat < 40 and lat > 35:\n",
    "                continent_of_origin = 'Asia'\n",
    "\n",
    "            elif lat < 35 and lat > -45:\n",
    "                continent_of_origin = 'Africa'\n",
    "\n",
    "        # Western Asia, Middle East, Eastern Africa\n",
    "        elif long < 52.5 and long > 35:\n",
    "\n",
    "            # North Middle East\n",
    "            if lat < 45 and lat > 30:\n",
    "                continent_of_origin = 'Asia'\n",
    "\n",
    "            # Gulf countries and Northeastern Africa\n",
    "            elif lat < 30 and lat > 10:\n",
    "\n",
    "                # Northeast Africa\n",
    "                if long < 37.5:\n",
    "                    continent_of_origin = 'Africa'\n",
    "\n",
    "                # Gulf countries\n",
    "                elif long > 37.5:\n",
    "                    continent_of_origin = 'Asia'\n",
    "\n",
    "            # Eastern coast of Africa, Madagascar\n",
    "            elif lat < 10:\n",
    "                continent_of_origin = 'Africa'\n",
    "\n",
    "        # Central and Eastern Asia, Oceania \n",
    "        elif long > 52.5 and long < 180:\n",
    "\n",
    "            # Central and Eastern Asia\n",
    "            if lat < 90 and lat > 17.5:\n",
    "                continent_of_origin = 'Asia'\n",
    "\n",
    "            # Oceania\n",
    "            elif lat < 17.5 and lat > -57.5:\n",
    "                continent_of_origin = 'Oceania'\n",
    "\n",
    "    return(continent_of_origin)"
   ]
  },
  {
   "cell_type": "code",
   "execution_count": 45,
   "metadata": {},
   "outputs": [],
   "source": [
    "# Classify each song's coordinate to a given continent, add new column\n",
    "continents_col = [classify_coordinate(row.lat, row.long) for index, row in df.iterrows()]\n",
    "df.loc[:, 'continent'] = continents_col"
   ]
  },
  {
   "cell_type": "code",
   "execution_count": 49,
   "metadata": {},
   "outputs": [],
   "source": [
    "# Export dataframe\n",
    "df.to_csv(outfile)"
   ]
  },
  {
   "cell_type": "code",
   "execution_count": null,
   "metadata": {},
   "outputs": [],
   "source": []
  }
 ],
 "metadata": {
  "kernelspec": {
   "display_name": "Python 3",
   "language": "python",
   "name": "python3"
  },
  "language_info": {
   "codemirror_mode": {
    "name": "ipython",
    "version": 3
   },
   "file_extension": ".py",
   "mimetype": "text/x-python",
   "name": "python",
   "nbconvert_exporter": "python",
   "pygments_lexer": "ipython3",
   "version": "3.7.6"
  }
 },
 "nbformat": 4,
 "nbformat_minor": 4
}
