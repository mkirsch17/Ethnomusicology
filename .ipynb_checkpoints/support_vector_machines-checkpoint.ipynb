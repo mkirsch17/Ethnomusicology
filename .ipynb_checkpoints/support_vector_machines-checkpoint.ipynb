{
 "cells": [
  {
   "cell_type": "code",
   "execution_count": 40,
   "metadata": {},
   "outputs": [],
   "source": [
    "import pandas as pd\n",
    "from sklearn.svm import SVC\n",
    "from sklearn.model_selection import train_test_split, GridSearchCV"
   ]
  },
  {
   "cell_type": "code",
   "execution_count": 41,
   "metadata": {},
   "outputs": [],
   "source": [
    "# Input data\n",
    "infolder = './data/'\n",
    "infile = infolder + 'default_features_1059_tracks_with_continents.csv'\n",
    "\n",
    "# Import data into dataframe\n",
    "df = pd.read_csv(infile)"
   ]
  },
  {
   "cell_type": "code",
   "execution_count": 42,
   "metadata": {},
   "outputs": [],
   "source": [
    "# Remove latitude and longitude columns from data\n",
    "df=df.drop(columns=['lat','long'])"
   ]
  },
  {
   "cell_type": "code",
   "execution_count": 43,
   "metadata": {},
   "outputs": [],
   "source": [
    "# Split data into input X and output y\n",
    "X = df.iloc[:,1:-2]\n",
    "y = df.iloc[:,-1]\n",
    "\n",
    "# Split data into training and testing sets with 80/20 ratio\n",
    "X_train, X_test, y_train, y_test = train_test_split(X, y, test_size=0.2)"
   ]
  },
  {
   "cell_type": "code",
   "execution_count": 44,
   "metadata": {},
   "outputs": [
    {
     "name": "stdout",
     "output_type": "stream",
     "text": [
      "0.8099173553719008\n"
     ]
    }
   ],
   "source": [
    "# Intitial test using rbf kernel and default gamma\n",
    "clf1 = SVC(kernel='rbf', gamma='scale')\n",
    "clf1.fit(X_train, y_train)\n",
    "\n",
    "# Print error of model to training data \n",
    "print(clf1.score(X_train, y_train))"
   ]
  },
  {
   "cell_type": "code",
   "execution_count": 47,
   "metadata": {},
   "outputs": [
    {
     "name": "stdout",
     "output_type": "stream",
     "text": [
      "0.9799291617473436\n",
      "SVC(C=10, cache_size=200, class_weight=None, coef0=0.0,\n",
      "    decision_function_shape='ovr', degree=3, gamma=0.01, kernel='rbf',\n",
      "    max_iter=-1, probability=False, random_state=None, shrinking=True,\n",
      "    tol=0.001, verbose=False)\n"
     ]
    }
   ],
   "source": [
    "# Hyperparameter options\n",
    "hyperparameters = {'C': [0.1, 1, 10, 100, 1000], 'gamma': [1, 0.1, 0.01, 0.001, 0.0001], 'kernel': ['rbf']}\n",
    "\n",
    "# Use 5-fold cross validation and grid search to test hyperparameters in dict and set to best result\n",
    "clf2 = GridSearchCV(SVC(), hyperparameters, cv=5, iid=False, refit=True) \n",
    "clf2.fit(X_train, y_train) \n",
    "\n",
    "# Print error of model to training data\n",
    "print(clf2.score(X_train, y_train))\n",
    "\n",
    "# Print parameters of best model\n",
    "print(clf2.best_estimator_)"
   ]
  },
  {
   "cell_type": "code",
   "execution_count": 46,
   "metadata": {},
   "outputs": [
    {
     "name": "stdout",
     "output_type": "stream",
     "text": [
      "0.6132075471698113 0.6367924528301887\n"
     ]
    }
   ],
   "source": [
    "# Compare how models perform on test set\n",
    "print(clf1.score(X_test, y_test), clf2.score(X_test, y_test))"
   ]
  },
  {
   "cell_type": "code",
   "execution_count": null,
   "metadata": {},
   "outputs": [],
   "source": []
  }
 ],
 "metadata": {
  "kernelspec": {
   "display_name": "Python 3",
   "language": "python",
   "name": "python3"
  },
  "language_info": {
   "codemirror_mode": {
    "name": "ipython",
    "version": 3
   },
   "file_extension": ".py",
   "mimetype": "text/x-python",
   "name": "python",
   "nbconvert_exporter": "python",
   "pygments_lexer": "ipython3",
   "version": "3.7.4"
  }
 },
 "nbformat": 4,
 "nbformat_minor": 2
}
