{
 "cells": [
  {
   "cell_type": "code",
   "execution_count": 1,
   "metadata": {},
   "outputs": [],
   "source": [
    "import pandas as pd"
   ]
  },
  {
   "cell_type": "code",
   "execution_count": 2,
   "metadata": {},
   "outputs": [],
   "source": [
    "# Input data\n",
    "infolder = './data/'\n",
    "infile = infolder + 'default_features_1059_tracks_with_continents.csv'\n",
    "\n",
    "# Import data into dataframe\n",
    "df = pd.read_csv(infile)"
   ]
  },
  {
   "cell_type": "code",
   "execution_count": 3,
   "metadata": {},
   "outputs": [
    {
     "name": "stdout",
     "output_type": "stream",
     "text": [
      "Asia             403\n",
      "Africa           305\n",
      "Europe           202\n",
      "Oceania           80\n",
      "South America     69\n",
      "Name: continent, dtype: int64\n"
     ]
    }
   ],
   "source": [
    "# Check distribution of continents in data\n",
    "print(df['continent'].value_counts())"
   ]
  },
  {
   "cell_type": "code",
   "execution_count": 4,
   "metadata": {},
   "outputs": [],
   "source": [
    "# Remove latitude and longitude columns from data\n",
    "df=df.drop(columns=['lat','long'])"
   ]
  },
  {
   "cell_type": "code",
   "execution_count": 5,
   "metadata": {},
   "outputs": [
    {
     "name": "stdout",
     "output_type": "stream",
     "text": [
      "0.539622641509434\n"
     ]
    }
   ],
   "source": [
    "from sklearn.model_selection import train_test_split\n",
    "from sklearn.linear_model import LogisticRegression\n",
    "\n",
    "# Split data into input X and output y\n",
    "X = df.iloc[:,1:-2]\n",
    "y = df.iloc[:,-1]\n",
    "\n",
    "# Split dataframe into training and testing data with 75/25 ratio\n",
    "X_train, X_test, y_train, y_test = train_test_split(X, y, test_size=0.25)\n",
    "\n",
    "# Train classifer using training data and test on testing data\n",
    "clf = LogisticRegression(solver='newton-cg', multi_class='auto').fit(X_train, y_train)\n",
    "print(clf.score(X_test, y_test))"
   ]
  },
  {
   "cell_type": "code",
   "execution_count": 6,
   "metadata": {},
   "outputs": [
    {
     "name": "stdout",
     "output_type": "stream",
     "text": [
      "0.5467654986522911\n"
     ]
    }
   ],
   "source": [
    "from sklearn.model_selection import KFold\n",
    "\n",
    "# Perform 10-fold cross validation to see if accuracy improves.\n",
    "\n",
    "k = 10\n",
    "kf = KFold(n_splits=k)\n",
    "score_sum = 0\n",
    "\n",
    "# Use 1 fold as testing data and the other 9 as training data\n",
    "# Do this 10 times with different test fold each time\n",
    "for train_index, test_index in kf.split(X):\n",
    "    X_train = X.iloc[train_index]\n",
    "    X_test = X.iloc[test_index]\n",
    "    y_train = y.iloc[train_index]\n",
    "    y_test = y.iloc[test_index]\n",
    "    clf = LogisticRegression(solver='newton-cg', multi_class='auto').fit(X_train, y_train)\n",
    "    score_sum+=clf.score(X_test, y_test)\n",
    "# Get avaerage of 10 scores\n",
    "print(score_sum/k)"
   ]
  },
  {
   "cell_type": "code",
   "execution_count": null,
   "metadata": {},
   "outputs": [],
   "source": []
  }
 ],
 "metadata": {
  "kernelspec": {
   "display_name": "Python 3",
   "language": "python",
   "name": "python3"
  },
  "language_info": {
   "codemirror_mode": {
    "name": "ipython",
    "version": 3
   },
   "file_extension": ".py",
   "mimetype": "text/x-python",
   "name": "python",
   "nbconvert_exporter": "python",
   "pygments_lexer": "ipython3",
   "version": "3.7.4"
  }
 },
 "nbformat": 4,
 "nbformat_minor": 2
}
