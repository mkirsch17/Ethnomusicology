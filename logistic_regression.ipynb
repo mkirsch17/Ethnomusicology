{
 "cells": [
  {
   "cell_type": "code",
   "execution_count": 30,
   "metadata": {},
   "outputs": [],
   "source": [
    "import pandas as pd\n",
    "from sklearn.linear_model import LogisticRegression\n",
    "from sklearn.model_selection import train_test_split, GridSearchCV"
   ]
  },
  {
   "cell_type": "code",
   "execution_count": 31,
   "metadata": {},
   "outputs": [],
   "source": [
    "# Input data\n",
    "infolder = './data/'\n",
    "infile = infolder + 'default_features_1059_tracks_with_continents.csv'\n",
    "\n",
    "# Import data into dataframe\n",
    "df = pd.read_csv(infile)"
   ]
  },
  {
   "cell_type": "code",
   "execution_count": 32,
   "metadata": {},
   "outputs": [],
   "source": [
    "# Remove latitude and longitude columns from data\n",
    "df=df.drop(columns=['lat','long'])"
   ]
  },
  {
   "cell_type": "code",
   "execution_count": 33,
   "metadata": {},
   "outputs": [],
   "source": [
    "# Split data into input X and output y\n",
    "X = df.iloc[:,1:-2]\n",
    "y = df.iloc[:,-1]\n",
    "\n",
    "# Split data into training and testing sets with 80/20 ratio\n",
    "X_train, X_test, y_train, y_test = train_test_split(X, y, test_size=0.2)"
   ]
  },
  {
   "cell_type": "code",
   "execution_count": 34,
   "metadata": {},
   "outputs": [
    {
     "name": "stdout",
     "output_type": "stream",
     "text": [
      "0.6824085005903188\n"
     ]
    }
   ],
   "source": [
    "# Intitial test using newton-cg solver\n",
    "clf1 = LogisticRegression(solver='newton-cg', multi_class='auto')\n",
    "clf1.fit(X_train, y_train)\n",
    "\n",
    "# Print error of model to training data \n",
    "print(clf1.score(X_train, y_train))"
   ]
  },
  {
   "cell_type": "code",
   "execution_count": 35,
   "metadata": {},
   "outputs": [
    {
     "name": "stdout",
     "output_type": "stream",
     "text": [
      "0.6458087367178277\n",
      "LogisticRegression(C=0.1, class_weight=None, dual=False, fit_intercept=True,\n",
      "                   intercept_scaling=1, l1_ratio=None, max_iter=100,\n",
      "                   multi_class='auto', n_jobs=None, penalty='l2',\n",
      "                   random_state=None, solver='liblinear', tol=0.0001, verbose=0,\n",
      "                   warm_start=False)\n"
     ]
    }
   ],
   "source": [
    "# Hyperparameter options\n",
    "hyperparameters = {'C': [0.001, 0.01, 0.1, 1, 10, 100], 'solver': ['newton-cg', 'liblinear'], 'penalty':['l2']}\n",
    "\n",
    "# Use 5-fold cross validation and grid search to test hyperparameters in dict and set to best result\n",
    "clf2 = GridSearchCV(LogisticRegression(multi_class='auto'), hyperparameters, cv=5, iid=False, refit=True) \n",
    "clf2.fit(X_train, y_train) \n",
    "\n",
    "# Print error of model to training data\n",
    "print(clf2.score(X_train, y_train))\n",
    "\n",
    "# Print parameters of best model\n",
    "print(clf2.best_estimator_)"
   ]
  },
  {
   "cell_type": "code",
   "execution_count": 36,
   "metadata": {},
   "outputs": [
    {
     "name": "stdout",
     "output_type": "stream",
     "text": [
      "0.5141509433962265 0.5471698113207547\n"
     ]
    }
   ],
   "source": [
    "# Compare how models perform on test set\n",
    "print(clf1.score(X_test, y_test), clf2.score(X_test, y_test))"
   ]
  },
  {
   "cell_type": "code",
   "execution_count": null,
   "metadata": {},
   "outputs": [],
   "source": []
  }
 ],
 "metadata": {
  "kernelspec": {
   "display_name": "Python 3",
   "language": "python",
   "name": "python3"
  },
  "language_info": {
   "codemirror_mode": {
    "name": "ipython",
    "version": 3
   },
   "file_extension": ".py",
   "mimetype": "text/x-python",
   "name": "python",
   "nbconvert_exporter": "python",
   "pygments_lexer": "ipython3",
   "version": "3.7.4"
  }
 },
 "nbformat": 4,
 "nbformat_minor": 2
}
